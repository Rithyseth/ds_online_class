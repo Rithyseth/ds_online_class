{
  "nbformat": 4,
  "nbformat_minor": 0,
  "metadata": {
    "colab": {
      "provenance": []
    },
    "kernelspec": {
      "name": "python3",
      "display_name": "Python 3"
    },
    "language_info": {
      "name": "python"
    }
  },
  "cells": [
    {
      "cell_type": "markdown",
      "source": [
        "#Data Science Tools and Ecosystem"
      ],
      "metadata": {
        "id": "tkJi5YObBXmW"
      }
    },
    {
      "cell_type": "markdown",
      "source": [
        "In this notebook, Data Science Tools and Ecosystem are summarized."
      ],
      "metadata": {
        "id": "kF_BVEmtBtY-"
      }
    },
    {
      "cell_type": "markdown",
      "source": [
        "Objectives:\n",
        "\n",
        "\n",
        "*   List of Data Science tools\n",
        "*   List of libraries for Data science \n",
        "*   List of Data science Languages\n",
        "*   Sample Python code for math\n",
        "\n",
        "\n",
        "\n"
      ],
      "metadata": {
        "id": "VHYVS8okFu6S"
      }
    },
    {
      "cell_type": "markdown",
      "source": [
        "Some of the popular languages that Data Scientists use are:\n",
        "<ol>\n",
        "  <li>Python</li>\n",
        "  <li>Java</li>\n",
        "  <li>R</li>\n",
        "  <li>SQL</li>\n",
        "  <li>Ruby</li>\n",
        "</ol>\n"
      ],
      "metadata": {
        "id": "Vz0keWC9Cut5"
      }
    },
    {
      "cell_type": "markdown",
      "source": [
        "Some of the commonly used libraries used by Data Scientists include:\n",
        "<ol>\n",
        "<li> Panda </li>\n",
        "<li> Numpy </li>\n",
        "<li> Seaborn </li>\n",
        "<li> Keras </li>\n",
        "<li> Big DL </li>"
      ],
      "metadata": {
        "id": "D8sCaLbSDmJz"
      }
    },
    {
      "cell_type": "markdown",
      "source": [
        "|Data Science Tools|\n",
        "------------\n",
        "Spyder\n",
        "Jupyter Notebooks\n",
        "R Studio\n",
        "Zeppelin"
      ],
      "metadata": {
        "id": "SD5KezvKD8Tb"
      }
    },
    {
      "cell_type": "markdown",
      "source": [
        "###Below are a few examples of evaluating arithmetic expressions in Python\n"
      ],
      "metadata": {
        "id": "BUqzzoCnEZ1s"
      }
    },
    {
      "cell_type": "markdown",
      "source": [
        "This a simple arithmetic expression to mutiply then add integers"
      ],
      "metadata": {
        "id": "Od2No2J0E6cR"
      }
    },
    {
      "cell_type": "code",
      "source": [
        "(3*4)+5"
      ],
      "metadata": {
        "colab": {
          "base_uri": "https://localhost:8080/"
        },
        "id": "vpPxcKXIEv6B",
        "outputId": "eb9492a4-5a88-4fe9-85f2-cbc19345148e"
      },
      "execution_count": 1,
      "outputs": [
        {
          "output_type": "execute_result",
          "data": {
            "text/plain": [
              "17"
            ]
          },
          "metadata": {},
          "execution_count": 1
        }
      ]
    },
    {
      "cell_type": "markdown",
      "source": [
        "This will convert 200 minutes to hours by diving by 60"
      ],
      "metadata": {
        "id": "RBSvy6CvFCnR"
      }
    },
    {
      "cell_type": "code",
      "source": [
        "200//60"
      ],
      "metadata": {
        "colab": {
          "base_uri": "https://localhost:8080/"
        },
        "id": "IULVx7C-EzQu",
        "outputId": "45026214-a08c-4c2d-d0f2-3881ff2d12f5"
      },
      "execution_count": 2,
      "outputs": [
        {
          "output_type": "execute_result",
          "data": {
            "text/plain": [
              "3"
            ]
          },
          "metadata": {},
          "execution_count": 2
        }
      ]
    },
    {
      "cell_type": "markdown",
      "source": [
        "##Author\n",
        "Houn Rithyseth"
      ],
      "metadata": {
        "id": "O2-tszl4GV3q"
      }
    },
    {
      "cell_type": "markdown",
      "source": [],
      "metadata": {
        "id": "2NoxrsEoGbb6"
      }
    }
  ]
}